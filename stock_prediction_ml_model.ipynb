{
 "cells": [
  {
   "cell_type": "code",
   "execution_count": 1,
   "metadata": {},
   "outputs": [],
   "source": [
    "#Importing necessary libraries\n",
    "import numpy as np \n",
    "import pandas as pd \n",
    "import matplotlib.pyplot as plt   \n",
    "import yfinance as yf "
   ]
  },
  {
   "cell_type": "code",
   "execution_count": 2,
   "metadata": {},
   "outputs": [
    {
     "name": "stderr",
     "output_type": "stream",
     "text": [
      "[*********************100%%**********************]  1 of 1 completed\n"
     ]
    }
   ],
   "source": [
    "#Getting the data for a stock from the start date to the end date\n",
    "start_date = '2010-01-01'\n",
    "end_date = '2024-07-15'\n",
    "\n",
    "stock_symbol = \"GOOG\"\n",
    "\n",
    "data = yf.download(stock_symbol , start_date , end_date)"
   ]
  },
  {
   "cell_type": "code",
   "execution_count": 3,
   "metadata": {},
   "outputs": [
    {
     "name": "stdout",
     "output_type": "stream",
     "text": [
      "                  Open        High         Low       Close   Adj Close  \\\n",
      "Date                                                                     \n",
      "2010-01-04   15.615220   15.678981   15.547723   15.610239   15.592496   \n",
      "2010-01-05   15.620949   15.637387   15.480475   15.541497   15.523831   \n",
      "2010-01-06   15.588072   15.588072   15.102393   15.149715   15.132495   \n",
      "2010-01-07   15.178109   15.193053   14.760922   14.797037   14.780218   \n",
      "2010-01-08   14.744733   15.024933   14.672753   14.994298   14.977255   \n",
      "...                ...         ...         ...         ...         ...   \n",
      "2024-07-08  191.365005  191.679001  189.320007  190.479996  190.479996   \n",
      "2024-07-09  191.750000  192.860001  190.229996  190.440002  190.440002   \n",
      "2024-07-10  190.750000  193.309998  190.619995  192.660004  192.660004   \n",
      "2024-07-11  191.339996  192.410004  186.820007  187.300003  187.300003   \n",
      "2024-07-12  186.919998  188.690002  186.139999  186.779999  186.779999   \n",
      "\n",
      "               Volume  \n",
      "Date                   \n",
      "2010-01-04   78541293  \n",
      "2010-01-05  120638494  \n",
      "2010-01-06  159744526  \n",
      "2010-01-07  257533695  \n",
      "2010-01-08  189680313  \n",
      "...               ...  \n",
      "2024-07-08   12097600  \n",
      "2024-07-09   10198500  \n",
      "2024-07-10   12052900  \n",
      "2024-07-11   16452000  \n",
      "2024-07-12   14449100  \n",
      "\n",
      "[3655 rows x 6 columns]\n"
     ]
    }
   ],
   "source": [
    "print(data)"
   ]
  },
  {
   "cell_type": "code",
   "execution_count": null,
   "metadata": {},
   "outputs": [],
   "source": []
  }
 ],
 "metadata": {
  "kernelspec": {
   "display_name": "Python 3",
   "language": "python",
   "name": "python3"
  },
  "language_info": {
   "codemirror_mode": {
    "name": "ipython",
    "version": 3
   },
   "file_extension": ".py",
   "mimetype": "text/x-python",
   "name": "python",
   "nbconvert_exporter": "python",
   "pygments_lexer": "ipython3",
   "version": "3.12.4"
  }
 },
 "nbformat": 4,
 "nbformat_minor": 2
}
