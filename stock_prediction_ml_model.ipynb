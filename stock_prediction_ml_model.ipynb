{
 "cells": [
  {
   "cell_type": "code",
   "execution_count": null,
   "metadata": {},
   "outputs": [],
   "source": [
    "#Importing necessary libraries\n",
    "import numpy as np \n",
    "import pandas as pd \n",
    "import matplotlib.pyplot as plt   \n",
    "import yfinance as yf \n",
    "from sklearn.model_selection import train_test_split\n",
    "from sklearn.preprocessing import MinMaxScaler"
   ]
  },
  {
   "cell_type": "code",
   "execution_count": null,
   "metadata": {},
   "outputs": [],
   "source": [
    "#Getting the data for a stock from the start date to the end date\n",
    "start_date = '2010-01-01'\n",
    "end_date = '2024-07-15'\n",
    "\n",
    "stock_symbol = \"GOOG\"\n",
    "\n",
    "data = yf.download(stock_symbol , start_date , end_date)"
   ]
  },
  {
   "cell_type": "code",
   "execution_count": null,
   "metadata": {},
   "outputs": [],
   "source": [
    "print(data)"
   ]
  },
  {
   "cell_type": "code",
   "execution_count": null,
   "metadata": {},
   "outputs": [],
   "source": [
    "#Add new index(0,1,2,...) instead of date column:\n",
    "data.reset_index(inplace = True)"
   ]
  },
  {
   "cell_type": "code",
   "execution_count": null,
   "metadata": {},
   "outputs": [],
   "source": [
    "data"
   ]
  },
  {
   "cell_type": "code",
   "execution_count": null,
   "metadata": {},
   "outputs": [],
   "source": [
    "#We will be using the method of moving averages:\n",
    "#Moving averages --> Calculate the value for the past 10 days and based on that value predict the value for the 11th day\n",
    "\n",
    "#Calculating the moving average for 100 days and then plotting it:\n",
    "mov_avg_100_days = data.Close.rolling(100).mean()"
   ]
  },
  {
   "cell_type": "code",
   "execution_count": null,
   "metadata": {},
   "outputs": [],
   "source": [
    "#Plotting:\n",
    "plt.figure(figsize=(15,15))\n",
    "plt.plot(mov_avg_100_days , 'b')\n",
    "plt.plot(data.Close , 'r')\n",
    "plt.show()"
   ]
  },
  {
   "cell_type": "code",
   "execution_count": null,
   "metadata": {},
   "outputs": [],
   "source": [
    "#Checking for null values:\n",
    "data.isnull().sum()"
   ]
  },
  {
   "cell_type": "code",
   "execution_count": null,
   "metadata": {},
   "outputs": [],
   "source": [
    "close_data = data[['Close']]"
   ]
  },
  {
   "cell_type": "code",
   "execution_count": null,
   "metadata": {},
   "outputs": [],
   "source": [
    "close_data"
   ]
  },
  {
   "cell_type": "code",
   "execution_count": null,
   "metadata": {},
   "outputs": [],
   "source": [
    "train_data , test_data = train_test_split(close_data , test_size=0.2, shuffle=False)"
   ]
  },
  {
   "cell_type": "code",
   "execution_count": null,
   "metadata": {},
   "outputs": [],
   "source": [
    "print(\"Number of rows in the training data: \" , train_data.shape[0])\n",
    "print(\"Number of rows in the testing data: \" , test_data.shape[0])"
   ]
  },
  {
   "cell_type": "code",
   "execution_count": null,
   "metadata": {},
   "outputs": [],
   "source": [
    "train_data"
   ]
  },
  {
   "cell_type": "code",
   "execution_count": null,
   "metadata": {},
   "outputs": [],
   "source": [
    "test_data"
   ]
  },
  {
   "cell_type": "code",
   "execution_count": null,
   "metadata": {},
   "outputs": [],
   "source": [
    "#Normalizing the training data:\n",
    "scaler = MinMaxScaler(feature_range=(0,1))"
   ]
  },
  {
   "cell_type": "code",
   "execution_count": null,
   "metadata": {},
   "outputs": [],
   "source": [
    "train_data_scaled = scaler.fit_transform(train_data)"
   ]
  },
  {
   "cell_type": "code",
   "execution_count": null,
   "metadata": {},
   "outputs": [],
   "source": [
    "#Now, applying the concept of moving averages on the scaled training data:\n",
    "x = []\n",
    "y = []\n",
    "\n",
    "for i in range(100 , train_data_scaled.shape[0]):\n",
    "    x.append(train_data_scaled[i-100 : i])\n",
    "    y.append(train_data_scaled[i , 0])"
   ]
  },
  {
   "cell_type": "markdown",
   "metadata": {},
   "source": [
    "#### EXPLAINATION OF WHAT THE LOOP ABOVE DOES. [taken from chatgpt]\n",
    "\n",
    "# Initialize lists to hold sequences and targets\n",
    "x = []\n",
    "y = []\n",
    "\n",
    "# Create sequences with a window size of 5\n",
    "window_size = 5\n",
    "\n",
    "# Loop through the data to create the input sequences and corresponding targets\n",
    "for i in range(window_size, train_data_scaled.shape[0]):\n",
    "    x.append(train_data_scaled[i-window_size:i])\n",
    "    y.append(train_data_scaled[i])\n",
    "\n",
    "# Convert lists to numpy arrays for better handling\n",
    "x = np.array(x)\n",
    "y = np.array(y)\n",
    "\n",
    "# Print the resulting sequences and targets\n",
    "print(\"x (input sequences):\")\n",
    "print(x)\n",
    "print(\"\\ny (targets):\")\n",
    "print(y)\n",
    "Output:\n",
    "The above code will produce the following output:\n",
    "\n",
    "python\n",
    "Copy code\n",
    "x (input sequences):\n",
    "[[0.1  0.15 0.2  0.25 0.3 ]\n",
    " [0.15 0.2  0.25 0.3  0.35]\n",
    " [0.2  0.25 0.3  0.35 0.4 ]\n",
    " [0.25 0.3  0.35 0.4  0.45]\n",
    " [0.3  0.35 0.4  0.45 0.5 ]\n",
    " [0.35 0.4  0.45 0.5  0.55]\n",
    " [0.4  0.45 0.5  0.55 0.6 ]\n",
    " [0.45 0.5  0.55 0.6  0.65]\n",
    " [0.5  0.55 0.6  0.65 0.7 ]\n",
    " [0.55 0.6  0.65 0.7  0.75]\n",
    " [0.6  0.65 0.7  0.75 0.8 ]\n",
    " [0.65 0.7  0.75 0.8  0.85]\n",
    " [0.7  0.75 0.8  0.85 0.9 ]\n",
    " [0.75 0.8  0.85 0.9  0.95]\n",
    " [0.8  0.85 0.9  0.95 1.  ]\n",
    " [0.85 0.9  0.95 1.   1.05]\n",
    " [0.9  0.95 1.   1.05 1.1 ]\n",
    " [0.95 1.   1.05 1.1  1.15]\n",
    " [1.   1.05 1.1  1.15 1.2 ]\n",
    " [1.05 1.1  1.15 1.2  1.25]\n",
    " [1.1  1.15 1.2  1.25 1.3 ]\n",
    " [1.15 1.2  1.25 1.3  1.35]\n",
    " [1.2  1.25 1.3  1.35 1.4 ]\n",
    " [1.25 1.3  1.35 1.4  1.45]\n",
    " [1.3  1.35 1.4  1.45 1.5 ]\n",
    " [1.35 1.4  1.45 1.5  1.55]\n",
    " [1.4  1.45 1.5  1.55 1.6 ]\n",
    " [1.45 1.5  1.55 1.6  1.65]\n",
    " [1.5  1.55 1.6  1.65 1.7 ]\n",
    " [1.55 1.6  1.65 1.7  1.75]\n",
    " [1.6  1.65 1.7  1.75 1.8 ]\n",
    " [1.65 1.7  1.75 1.8  1.85]\n",
    " [1.7  1.75 1.8  1.85 1.9 ]\n",
    " [1.75 1.8  1.85 1.9  1.95]\n",
    " [1.8  1.85 1.9  1.95 2.  ]\n",
    " [1.85 1.9  1.95 2.   2.05]\n",
    " [1.9  1.95 2.   2.05 2.1 ]\n",
    " [1.95 2.   2.05 2.1  2.15]\n",
    " [2.   2.05 2.1  2.15 2.2 ]\n",
    " [2.05 2.1  2.15 2.2  2.25]\n",
    " [2.1  2.15 2.2  2.25 2.3 ]\n",
    " [2.15 2.2  2.25 2.3  2.35]\n",
    " [2.2  2.25 2.3  2.35 2.4 ]\n",
    " [2.25 2.3  2.35 2.4  2.45]\n",
    " [2.3  2.35 2.4  2.45 2.5 ]]\n",
    "\n",
    "y (targets):\n",
    "[0.35 0.4  0.45 0.5  0.55 0.6  0.65 0.7  0.75 0.8  0.85 0.9  0.95 1.\n",
    " 1.05 1.1  1.15 1.2  1.25 1.3  1.35 1.4  1.45 1.5  1.55 1.6  1.65 1.7\n",
    " 1.75 1.8  1.85 1.9  1.95 2.   2.05 2.1  2.15 2.2  2.25 2.3  2.35 2.4\n",
    " 2.45 2.5 ]\n",
    "\n",
    "\n",
    "\n",
    "In this example, each element in x is a sequence of 5 values from train_data_scaled, and each corresponding element in y is the value immediately following the sequence. This setup is used to train models for time series forecasting, where the model learns to predict the next value in the sequence based on the previous values."
   ]
  },
  {
   "cell_type": "code",
   "execution_count": null,
   "metadata": {},
   "outputs": [],
   "source": [
    "print(\"X is: \" , x)\n",
    "print(\"\\nY is: \" , y)"
   ]
  },
  {
   "cell_type": "code",
   "execution_count": null,
   "metadata": {},
   "outputs": [],
   "source": [
    "#CREATING THE MODEL FROM HERE ON:"
   ]
  },
  {
   "cell_type": "code",
   "execution_count": null,
   "metadata": {},
   "outputs": [],
   "source": [
    "from keras.layers import Dense , Dropout , LSTM    \n",
    "from keras.models import Sequential"
   ]
  },
  {
   "cell_type": "code",
   "execution_count": null,
   "metadata": {},
   "outputs": [],
   "source": []
  }
 ],
 "metadata": {
  "kernelspec": {
   "display_name": "Python 3",
   "language": "python",
   "name": "python3"
  },
  "language_info": {
   "codemirror_mode": {
    "name": "ipython",
    "version": 3
   },
   "file_extension": ".py",
   "mimetype": "text/x-python",
   "name": "python",
   "nbconvert_exporter": "python",
   "pygments_lexer": "ipython3",
   "version": "3.12.4"
  }
 },
 "nbformat": 4,
 "nbformat_minor": 2
}
